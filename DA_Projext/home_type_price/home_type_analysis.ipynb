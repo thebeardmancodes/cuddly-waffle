{
 "cells": [
  {
   "cell_type": "code",
   "execution_count": 17,
   "id": "2666fac5",
   "metadata": {},
   "outputs": [],
   "source": [
    "import pandas as pd\n",
    "import numpy as np\n"
   ]
  },
  {
   "cell_type": "code",
   "execution_count": 18,
   "id": "558327ae",
   "metadata": {},
   "outputs": [],
   "source": [
    "files = {\n",
    "    'condos': 'svg_condo_price.csv',\n",
    "    'single_family': 'avg_single_fam_price.csv',\n",
    "    'top_tier': 'top_tier_svg.csv',\n",
    "    'bottom_tier': 'bottom_tier.csv'\n",
    "}\n",
    "\n",
    "Metro = ['San Jose-Sunnyvale-Santa Clara', 'San Francisco-Oakland-Hayward']"
   ]
  },
  {
   "cell_type": "code",
   "execution_count": 19,
   "id": "ac4a9cfa",
   "metadata": {},
   "outputs": [],
   "source": [
    "def read_data(file, **kw):\n",
    "    df = pd.read_csv(file)\n",
    "    df.sort_index(inplace=True)\n",
    "    return df"
   ]
  },
  {
   "cell_type": "code",
   "execution_count": 20,
   "id": "da368a61",
   "metadata": {},
   "outputs": [],
   "source": [
    "condos = read_data('svg_condo_price.csv')\n",
    "single_family = read_data('avg_single_fam_price.csv')\n",
    "top_tier= read_data('top_tier_svg.csv')\n",
    "bottom_tier = read_data('bottom_tier.csv')\n",
    "all_homes = read_data('avg home_price.csv')"
   ]
  },
  {
   "cell_type": "code",
   "execution_count": 31,
   "id": "966b6d4f",
   "metadata": {},
   "outputs": [
    {
     "name": "stdout",
     "output_type": "stream",
     "text": [
      "<class 'pandas.core.frame.DataFrame'>\n",
      "RangeIndex: 2875 entries, 0 to 2874\n",
      "Columns: 316 entries, RegionID to 2021-07-31\n",
      "dtypes: float64(307), int64(4), object(5)\n",
      "memory usage: 6.9+ MB\n"
     ]
    }
   ],
   "source": [
    "all_homes.info()"
   ]
  },
  {
   "cell_type": "code",
   "execution_count": null,
   "id": "8623fad1",
   "metadata": {},
   "outputs": [],
   "source": []
  }
 ],
 "metadata": {
  "kernelspec": {
   "display_name": "Python 3",
   "language": "python",
   "name": "python3"
  },
  "language_info": {
   "codemirror_mode": {
    "name": "ipython",
    "version": 3
   },
   "file_extension": ".py",
   "mimetype": "text/x-python",
   "name": "python",
   "nbconvert_exporter": "python",
   "pygments_lexer": "ipython3",
   "version": "3.8.8"
  }
 },
 "nbformat": 4,
 "nbformat_minor": 5
}
